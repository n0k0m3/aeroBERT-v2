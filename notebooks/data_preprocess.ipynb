{
 "cells": [
  {
   "cell_type": "code",
   "execution_count": 1,
   "metadata": {},
   "outputs": [],
   "source": [
    "from lxml import etree\n",
    "import itertools"
   ]
  },
  {
   "cell_type": "code",
   "execution_count": 67,
   "metadata": {},
   "outputs": [],
   "source": [
    "def check_ancestor(element, ancestor=[\"td\", \"th\", \"br\", \"table\"]):\n",
    "    if type(ancestor) == str:\n",
    "        ancestor = [ancestor]\n",
    "    while element is not None:\n",
    "        if element.tag.lower() in ancestor:\n",
    "            return True\n",
    "        element = element.getparent()\n",
    "    return False\n",
    "\n",
    "\n",
    "def get_child_div(root):\n",
    "    child_div = {}\n",
    "    for element in root.iter(\"*\"):\n",
    "        if element.getparent() is None:\n",
    "            continue\n",
    "        ancestor_tag = element.getparent().tag\n",
    "        _ = ancestor_tag.lower() in [\"div\" + str(i) for i in range(1, 10)]\n",
    "        if _ and element.text != None and element.text.strip() != \"\":\n",
    "            if ancestor_tag not in child_div:\n",
    "                child_div[ancestor_tag] = []\n",
    "            child_div[ancestor_tag].append(element.tag)\n",
    "    child_div = {k: list(set(v)) for k, v in child_div.items()}\n",
    "    child_div = list(set(itertools.chain.from_iterable(child_div.values())))\n",
    "    # drop xref\n",
    "    child_div = [tag for tag in child_div if tag.lower() != \"xref\"]\n",
    "    return child_div"
   ]
  },
  {
   "cell_type": "code",
   "execution_count": 83,
   "metadata": {},
   "outputs": [],
   "source": [
    "process_dict = {\n",
    "    \"ac\": {\n",
    "        \"b\": (\"after\", \"dot\"),\n",
    "        \"8\": (\"after\", \"bar\"),\n",
    "    },\n",
    "    \"e\": {\n",
    "        \"52\": (\"before\", \"_\"),\n",
    "        \"7334\": (\"before\", \"_\"),\n",
    "        \"9145\": (\"before\", \"_\"),\n",
    "        \"54\": (\"before\", \"_\"),\n",
    "        \"51\": (\"before\", \"^\"),\n",
    "        \"7501\": (\"after\", \"bar\"),\n",
    "    },\n",
    "    \"su\": (\"before\", \"^\"),\n",
    "    \"sup\": (\"before\", \"^\"),\n",
    "}\n",
    "def process_text(element):\n",
    "    if element.text is None or element.text.strip() == \"\":\n",
    "        return \"\"\n",
    "    text = element.text\n",
    "    if element.tag.lower() in [\"ac\",\"e\"]:\n",
    "        # try:\n",
    "        op = None\n",
    "        if process_dict.get(element.tag.lower(), None):\n",
    "            if process_dict[element.tag.lower()].get(element.attrib[\"T\"], None):\n",
    "                op = process_dict[element.tag.lower()][element.attrib[\"T\"]][0]\n",
    "        # op = process_dict.get(element.tag.lower(), None).get(element.attrib[\"T\"], None)[0]\n",
    "        # except Exception as e:\n",
    "        #     print(element.tag.lower(), element.attrib[\"T\"], e)\n",
    "        #     print(process_dict[element.tag.lower()])\n",
    "        #     print(process_dict[element.tag.lower()][element.attrib[\"T\"]])\n",
    "        #     raise e\n",
    "        if op == \"before\":\n",
    "            text = process_dict[element.tag.lower()][element.attrib[\"T\"]][1] + text.lstrip()\n",
    "        elif op == \"after\":\n",
    "            text = text.rstrip() + process_dict[element.tag.lower()][element.attrib[\"T\"]][1]\n",
    "        else:\n",
    "            pass\n",
    "    elif element.tag.lower() in [\"su\", \"sup\"]:\n",
    "        text = process_dict[element.tag.lower()][1] + text.lstrip()\n",
    "    if element.tail is not None and element.tail.strip() != \"\":\n",
    "        text = text + element.tail\n",
    "    return text"
   ]
  },
  {
   "cell_type": "code",
   "execution_count": 89,
   "metadata": {},
   "outputs": [],
   "source": [
    "with open(\"title-14.xml\", \"r\") as f:\n",
    "    tree = etree.parse(f)\n",
    "root = tree.getroot()\n",
    "child_div = get_child_div(root)\n",
    "output_lines=[]\n",
    "for e_root in tree.xpath(\" | \".join([f\".//{tag}\" for tag in child_div])):\n",
    "    output_line = \"\"\n",
    "    # if e_root.text is not None:\n",
    "    #     output_line += e_root.text.strip()\n",
    "    for e in e_root.iter():\n",
    "        if check_ancestor(e):\n",
    "            continue\n",
    "        if e.tag.lower() == \"table\":\n",
    "            continue\n",
    "        output_line += process_text(e)\n",
    "    # if e_root.tail is not None:\n",
    "    #     output_line += e_root.tail.strip()\n",
    "    output_lines.append(output_line.rstrip()+\"\\n\")"
   ]
  },
  {
   "cell_type": "code",
   "execution_count": 91,
   "metadata": {},
   "outputs": [],
   "source": [
    "with open(\"title-14.txt\",\"w+\") as f:\n",
    "    f.writelines(output_lines)"
   ]
  },
  {
   "cell_type": "code",
   "execution_count": 44,
   "metadata": {},
   "outputs": [],
   "source": [
    "EX_XML=b\"\"\"<?xml version=\"1.0\" encoding=\"UTF-8\"?>\n",
    "<P> ABCDE<E T=\"52\">FGHIJ</E> KLMNO<SU>PQRST</SU> UVWXY <AC T=\"8\">ZZZZZ</AC> </P>\n",
    "\"\"\"\n",
    "e_root = etree.fromstring(EX_XML)\n",
    "# root = tree.getroot()\n",
    "child_div = [\"P\"]\n",
    "output_lines=[]\n",
    "output_line = \"\"\n",
    "# output_line += e_root.text.strip()\n",
    "for e in e_root.iter(\"*\"):\n",
    "    # if check_table_ancestor(element):\n",
    "        # continue\n",
    "    text = process_text(e)\n",
    "    line = text\n",
    "    output_line += line\n",
    "if e_root.tail is not None:\n",
    "    output_line += e_root.tail.strip()\n",
    "output_lines.append(output_line)"
   ]
  },
  {
   "cell_type": "code",
   "execution_count": 45,
   "metadata": {},
   "outputs": [
    {
     "data": {
      "text/plain": [
       "[' ABCDE_FGHIJ KLMNO^PQRST UVWXY ZZZZZbar']"
      ]
     },
     "execution_count": 45,
     "metadata": {},
     "output_type": "execute_result"
    }
   ],
   "source": [
    "output_lines"
   ]
  },
  {
   "cell_type": "code",
   "execution_count": null,
   "metadata": {},
   "outputs": [],
   "source": []
  }
 ],
 "metadata": {
  "kernelspec": {
   "display_name": "base",
   "language": "python",
   "name": "python3"
  },
  "language_info": {
   "codemirror_mode": {
    "name": "ipython",
    "version": 3
   },
   "file_extension": ".py",
   "mimetype": "text/x-python",
   "name": "python",
   "nbconvert_exporter": "python",
   "pygments_lexer": "ipython3",
   "version": "3.10.9"
  },
  "orig_nbformat": 4
 },
 "nbformat": 4,
 "nbformat_minor": 2
}
